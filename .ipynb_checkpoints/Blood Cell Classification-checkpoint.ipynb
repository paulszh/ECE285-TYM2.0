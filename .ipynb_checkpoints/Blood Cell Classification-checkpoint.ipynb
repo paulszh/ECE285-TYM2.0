{
 "cells": [
  {
   "cell_type": "code",
   "execution_count": 2,
   "metadata": {},
   "outputs": [
    {
     "name": "stderr",
     "output_type": "stream",
     "text": [
      "/Library/Python/2.7/site-packages/h5py/__init__.py:36: FutureWarning: Conversion of the second argument of issubdtype from `float` to `np.floating` is deprecated. In future, it will be treated as `np.float64 == np.dtype(float).type`.\n",
      "  from ._conv import register_converters as _register_converters\n",
      "Using TensorFlow backend.\n",
      "/Library/Python/2.7/site-packages/sklearn/cross_validation.py:41: DeprecationWarning: This module was deprecated in version 0.18 in favor of the model_selection module into which all the refactored classes and functions are moved. Also note that the interface of the new CV iterators are different from that of this module. This module will be removed in 0.20.\n",
      "  \"This module will be removed in 0.20.\", DeprecationWarning)\n"
     ]
    }
   ],
   "source": [
    "import numpy as np\n",
    "import pandas as pd\n",
    "import xml.etree.ElementTree as ET\n",
    "import sklearn\n",
    "import skimage.transform\n",
    "import keras\n",
    "import itertools\n",
    "import cv2\n",
    "import scipy\n",
    "import os\n",
    "import csv\n",
    "import matplotlib.pyplot as plt\n",
    "%matplotlib inline\n",
    "\n",
    "from sklearn.preprocessing import LabelEncoder\n",
    "from sklearn.cross_validation import train_test_split\n",
    "from sklearn.metrics import confusion_matrix\n",
    "from sklearn.metrics import accuracy_score\n",
    "\n",
    "from keras.utils import np_utils\n",
    "from keras.models import Sequential\n",
    "from keras.layers import Dense, Dropout, Activation, Flatten, Conv2D, MaxPooling2D, Lambda, MaxPool2D, BatchNormalization\n",
    "from keras.preprocessing.image import ImageDataGenerator\n",
    "from keras.optimizers import RMSprop\n"
   ]
  },
  {
   "cell_type": "code",
   "execution_count": 3,
   "metadata": {},
   "outputs": [],
   "source": [
    "dict_characters = {1:'NEUTROPHIL',2:'EOSINOPHIL',3:'MONOCYTE',4:'LYMPHOCYTE'}\n",
    "dict_characters2 = {0:'Mononuclear',1:'Polynuclear'}"
   ]
  },
  {
   "cell_type": "code",
   "execution_count": 9,
   "metadata": {},
   "outputs": [
    {
     "ename": "NameError",
     "evalue": "name 'A' is not defined",
     "output_type": "error",
     "traceback": [
      "\u001b[0;31m---------------------------------------------------------------------------\u001b[0m",
      "\u001b[0;31mNameError\u001b[0m                                 Traceback (most recent call last)",
      "\u001b[0;32m<ipython-input-9-2f089552374f>\u001b[0m in \u001b[0;36m<module>\u001b[0;34m()\u001b[0m\n\u001b[1;32m     22\u001b[0m                         \u001b[0mymax\u001b[0m \u001b[0;34m=\u001b[0m \u001b[0mint\u001b[0m\u001b[0;34m(\u001b[0m\u001b[0mround\u001b[0m\u001b[0;34m(\u001b[0m\u001b[0mfloat\u001b[0m\u001b[0;34m(\u001b[0m\u001b[0mdim\u001b[0m\u001b[0;34m.\u001b[0m\u001b[0mtext\u001b[0m\u001b[0;34m)\u001b[0m\u001b[0;34m)\u001b[0m\u001b[0;34m)\u001b[0m\u001b[0;34m\u001b[0m\u001b[0m\n\u001b[1;32m     23\u001b[0m                 cv2.rectangle(image, (xmin, ymin),\n\u001b[0;32m---> 24\u001b[0;31m                             (xmax, ymax), color[A], 1)\n\u001b[0m\u001b[1;32m     25\u001b[0m                 cv2.putText(image, name, (xmin + 10, ymin + 15),\n\u001b[1;32m     26\u001b[0m                         cv2.FONT_HERSHEY_SIMPLEX, 1e-3 * image.shape[0], color[name[0]], 1)\n",
      "\u001b[0;31mNameError\u001b[0m: name 'A' is not defined"
     ]
    }
   ],
   "source": [
    "image = cv2.imread(\"./dataset/dataset-master/JPEGImages/BloodImage_00018.jpg\")\n",
    "\n",
    "tree = ET.parse(\"./dataset/dataset-master/Annotations/BloodImage_00018.xml\")\n",
    "color = {}\n",
    "color[\"R\"] = [0, 255, 0]\n",
    "color[\"W\"] = [0, 0, 255]\n",
    "color[\"P\"] = [255, 0, 0]\n",
    "for elem in tree.iter():\n",
    "    if 'object' in elem.tag or 'part' in elem.tag:\n",
    "        for attr in list(elem):\n",
    "            if 'name' in attr.tag:\n",
    "                name = attr.text\n",
    "            if 'bndbox' in attr.tag:\n",
    "                for dim in list(attr):\n",
    "                    if 'xmin' in dim.tag:\n",
    "                        xmin = int(round(float(dim.text)))\n",
    "                    if 'ymin' in dim.tag:\n",
    "                        ymin = int(round(float(dim.text)))\n",
    "                    if 'xmax' in dim.tag:\n",
    "                        xmax = int(round(float(dim.text)))\n",
    "                    if 'ymax' in dim.tag:\n",
    "                        ymax = int(round(float(dim.text)))\n",
    "                cv2.rectangle(image, (xmin, ymin),\n",
    "                            (xmax, ymax), color[name[0]], 1)\n",
    "                cv2.putText(image, name, (xmin + 10, ymin + 15),\n",
    "                        cv2.FONT_HERSHEY_SIMPLEX, 1e-3 * image.shape[0], color[name[0]], 1)\n",
    "plt.figure(figsize=(16,16))\n",
    "plt.imshow(image)\n",
    "plt.show()"
   ]
  },
  {
   "cell_type": "code",
   "execution_count": 26,
   "metadata": {},
   "outputs": [
    {
     "data": {
      "image/png": "[encoded data removed]",
      "text/plain": [
       "<matplotlib.figure.Figure at 0x122faafd0>"
      ]
     },
     "metadata": {},
     "output_type": "display_data"
    }
   ],
   "source": [
    "reader = csv.reader(open('./dataset/dataset2-master/labels.csv'))\n",
    "next(reader)\n",
    "\n",
    "labels = {\n",
    "    'BASOPHIL': 0,\n",
    "    'NEUTROPHIL': 0,\n",
    "    'EOSINOPHIL': 0,\n",
    "    'MONOCYTE': 0,\n",
    "    'LYMPHOCYTE': 0\n",
    "}\n",
    "for r in reader:\n",
    "    curr_label = r[2]\n",
    "    if len(curr_label) > 0 and len(curr_label) < 11:\n",
    "        labels[curr_label] += 1\n",
    "print labels        \n",
    "\n",
    "plt.bar(range(len(labels)), labels.values(), width = 0.8, align='center')\n",
    "plt.xticks(range(len(labels)), labels.keys())\n",
    "plt.tick_params(axis='both', which='major', labelsize=8)\n",
    "plt.show()"
   ]
  },
  {
   "cell_type": "code",
   "execution_count": 11,
   "metadata": {},
   "outputs": [
    {
     "name": "stderr",
     "output_type": "stream",
     "text": [
      "/Library/Python/2.7/site-packages/ipykernel_launcher.py:26: DeprecationWarning: `imresize` is deprecated!\n",
      "`imresize` is deprecated in SciPy 1.0.0, and will be removed in 1.2.0.\n",
      "Use ``skimage.transform.resize`` instead.\n"
     ]
    },
    {
     "name": "stdout",
     "output_type": "stream",
     "text": [
      "[array([[[  0,   0,   0],\n",
      "        [  0,   0,   0],\n",
      "        [  0,   0,   0],\n",
      "        ...,\n",
      "        [198, 208, 202],\n",
      "        [194, 207, 201],\n",
      "        [194, 209, 202]],\n",
      "\n",
      "       [[  0,   0,   0],\n",
      "        [  0,   0,   0],\n",
      "        [  0,   0,   0],\n",
      "        ...,\n",
      "        [197, 209, 203],\n",
      "        [199, 207, 202],\n",
      "        [202, 208, 203]],\n",
      "\n",
      "       [[  0,   0,   0],\n",
      "        [  0,   0,   0],\n",
      "        [  0,   0,   0],\n",
      "        ...,\n",
      "        [201, 209, 204],\n",
      "        [202, 207, 202],\n",
      "        [203, 207, 203]],\n",
      "\n",
      "       ...,\n",
      "\n",
      "       [[  0,   0,   0],\n",
      "        [  0,   0,   0],\n",
      "        [  1,   1,   1],\n",
      "        ...,\n",
      "        [  2,   2,   2],\n",
      "        [  0,   0,   0],\n",
      "        [  0,   0,   0]],\n",
      "\n",
      "       [[  0,   0,   0],\n",
      "        [  0,   0,   0],\n",
      "        [  0,   0,   0],\n",
      "        ...,\n",
      "        [  0,   0,   0],\n",
      "        [  0,   0,   0],\n",
      "        [  0,   0,   0]],\n",
      "\n",
      "       [[  0,   0,   0],\n",
      "        [  0,   0,   0],\n",
      "        [  0,   0,   0],\n",
      "        ...,\n",
      "        [  0,   0,   0],\n",
      "        [  0,   0,   0],\n",
      "        [  0,   0,   0]]], dtype=uint8), '3', '0']\n"
     ]
    }
   ],
   "source": [
    "#Since sample size are imbalance for each type, we decide to use the argumented datasets.\n",
    "def load_argumented_images(path):\n",
    "    data = []\n",
    "    \n",
    "    label1_dict = {\n",
    "        'NEUTROPHIL': '1',\n",
    "        'EOSINOPHIL': '2',\n",
    "        'MONOCYTE': '3',\n",
    "        'LYMPHOCYTE': '4'\n",
    "    }\n",
    "    \n",
    "    label2_dict = {\n",
    "        'NEUTROPHIL': '1',\n",
    "        'EOSINOPHIL': '1',\n",
    "        'MONOCYTE': '0',\n",
    "        'LYMPHOCYTE': '0'\n",
    "    }\n",
    "    \n",
    "    for t in label1_dict.keys():\n",
    "        folder = path + '/' + t\n",
    "        label1 = label1_dict[t]\n",
    "        label2 = label2_dict[t]\n",
    "        for image_name in os.listdir(folder):\n",
    "            image = cv2.imread(folder+'/'+image_name)\n",
    "            if image is not None:\n",
    "                image = scipy.misc.imresize(arr=image, size=(60, 80, 3))\n",
    "                img_arr = np.asarray(image)\n",
    "                row = [img_arr, label1, label2]\n",
    "                data.append(row)\n",
    "            \n",
    "    return data\n",
    "data = load_argumented_images('./dataset/dataset2-master/images/TRAIN')"
   ]
  },
  {
   "cell_type": "code",
   "execution_count": null,
   "metadata": {},
   "outputs": [],
   "source": [
    "\n",
    "    "
   ]
  }
 ],
 "metadata": {
  "kernelspec": {
   "display_name": "Python 2",
   "language": "python",
   "name": "python2"
  },
  "language_info": {
   "codemirror_mode": {
    "name": "ipython",
    "version": 2
   },
   "file_extension": ".py",
   "mimetype": "text/x-python",
   "name": "python",
   "nbconvert_exporter": "python",
   "pygments_lexer": "ipython2",
   "version": "2.7.10"
  }
 },
 "nbformat": 4,
 "nbformat_minor": 2
}
